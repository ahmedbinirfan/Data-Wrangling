{
 "cells": [
  {
   "cell_type": "markdown",
   "id": "94d1554a-1407-4f33-aca4-a700e4cd4260",
   "metadata": {},
   "source": [
    "**Question 1:**\n",
    "Create three variables: Sensor_IDs, Temperature_Readings, and Humidity_Levels.\n",
    "1. Assign five unique random values to each variable.\n",
    "2. Ensure that each Sensor_ID is a unique alphanumeric string (use Hashing for unique sensor IDs).\n",
    "3. Assign random temperature and humidity readings within valid ranges for five sensors.\n",
    "4. Ensure that:\n",
    "    * Each Sensor_ID is unique.\n",
    "    * Temperature readings are between -10°C and 50°C.\n",
    "    * Humidity levels are between 10% and 100%.\n",
    "5. Print and validate the assigned values."
   ]
  },
  {
   "cell_type": "code",
   "execution_count": 2,
   "id": "c59d7874-5643-466e-b24f-e504f1dcb804",
   "metadata": {},
   "outputs": [
    {
     "name": "stdout",
     "output_type": "stream",
     "text": [
      "Sensor IDs: ['b20bfce1774c4ec6b5f85f466aa5007a', 'afccdb0cfac24b579a3221f49665c847', '9f6286efd9d8460e98a69769389a33c2', '56ce6c61a10a4f749a53bbb78e1133a4', '68639831f83a438eb5e5de85ac9d1260']\n",
      "Temperature Readings (°C): [-9, 29, 39, -6, 48]\n",
      "Humidity Levels (%): [33, 90, 42, 76, 40]\n"
     ]
    }
   ],
   "source": [
    "import numpy as np \n",
    "import uuid  # (Universal Unique Identifier) uuid module is used to get unique identifiers for sensor ids\n",
    "\n",
    "# Generate 5 unique sensor IDs using UUID \n",
    "Sensor_IDs = [uuid.uuid4().hex for i in range(5)]\n",
    "\n",
    "# Generate 5 random temperature readings between -10 and 50 (rounded to 2 decimals)\n",
    "Temperature_Readings = [round(np.random.randint(-10, 50), 2) for i in range(5)]\n",
    "\n",
    "# Generate 5 random humidity levels between 10 and 100 (rounded to 2 decimals)\n",
    "Humidity_Levels = [round(np.random.randint(10, 100), 2) for i in range(5)]\n",
    "\n",
    "print(f\"Sensor IDs: {Sensor_IDs}\")\n",
    "print(f\"Temperature Readings (°C): {Temperature_Readings}\")\n",
    "print(f\"Humidity Levels (%): {Humidity_Levels}\")"
   ]
  },
  {
   "cell_type": "markdown",
   "id": "c0056cac-e20b-4ddd-af23-cf145ee73f97",
   "metadata": {},
   "source": [
    "**Question 2:** Create a dictionary where:\n",
    "1. The keys are Sensor_IDs.\n",
    "2. The values are dictionaries containing Temperature_Reading and Humidity_Level.\n",
    "3. Implement a function that:\n",
    "    * Filters sensors exceeding a user-defined temperature threshold.\n",
    "    * Sorts the dictionary in descending order by temperature.\n",
    "    * Retrieves and prints the top 3 highest temperatures.\n",
    "4. Ensure robustness by handling missing or invalid sensor readings."
   ]
  },
  {
   "cell_type": "code",
   "execution_count": 4,
   "id": "3318a638-a08f-4353-9f28-b2885475948a",
   "metadata": {},
   "outputs": [
    {
     "name": "stdout",
     "output_type": "stream",
     "text": [
      "{'b20bfce1774c4ec6b5f85f466aa5007a': {'Temperature': -9, 'Humidity': 33}, 'afccdb0cfac24b579a3221f49665c847': {'Temperature': 29, 'Humidity': 90}, '9f6286efd9d8460e98a69769389a33c2': {'Temperature': 39, 'Humidity': 42}, '56ce6c61a10a4f749a53bbb78e1133a4': {'Temperature': -6, 'Humidity': 76}, '68639831f83a438eb5e5de85ac9d1260': {'Temperature': 48, 'Humidity': 40}}\n",
      "\n",
      "Top 3 sensors with temperature exceeding 15°C:\n",
      "Sensor ID: 68639831f83a438eb5e5de85ac9d1260 (Temperature: 48°C , Humidity: 40%)\n",
      "Sensor ID: 9f6286efd9d8460e98a69769389a33c2 (Temperature: 39°C , Humidity: 42%)\n",
      "Sensor ID: afccdb0cfac24b579a3221f49665c847 (Temperature: 29°C , Humidity: 90%)\n"
     ]
    }
   ],
   "source": [
    "# Create the sensor dictionary where key is sensor id and values are a dictionary containg temperature reading  and humidity level.\n",
    "# Built in ZIP() function is used to zip sensor id, temperature reading and humidity levels together from task 1.\n",
    "sensor_dict = {sid: {\"Temperature\": temp, \"Humidity\": humid} for sid, temp, humid in zip(Sensor_IDs, Temperature_Readings, Humidity_Levels)}\n",
    "\n",
    "\"\"\"\n",
    "Create a filtered dictionary based on user defined threshold\n",
    "Sort the filtered dictionary in descending order by temperature \n",
    "Retrieves and prints the top 3 highest temperatures\n",
    "\"\"\"\n",
    "def sensor_filter(threshold, dct):\n",
    "    # Create a dictionary filtered to filter sensors exceeding a user defined temperature threshold\n",
    "    filtered = {}\n",
    "    # iterate through dictionary with all the sensors and values \n",
    "    for sid, svalue in dct.items():\n",
    "        # Use try and except for error handling and invlaid sersor readings\n",
    "        try:\n",
    "            temp = svalue[\"Temperature\"]\n",
    "            if temp is None or temp < -10 or temp > 50:\n",
    "                continue \n",
    "            # if temperature is greater than user defined temperature threshold than add to filtered dictionary initiated earlier\n",
    "            if temp > threshold: \n",
    "                filtered[sid] = svalue\n",
    "        except KeyError:\n",
    "            continue\n",
    "    print(dct)\n",
    "    # Sort filtered sensors dictionary by temperature in descending order\n",
    "    sorted_dict = sorted(filtered.items(), key=lambda x: x[1][\"Temperature\"], reverse=True)\n",
    "    \n",
    "    # Filter top 3 seneor with highest temperature \n",
    "    top3 = sorted_dict[:3]\n",
    "    print(f\"\\nTop 3 sensors with temperature exceeding {threshold}°C:\")\n",
    "\n",
    "    # Print top3 sersors and values with highest temperatures\n",
    "    for sid, values in top3:\n",
    "        print(f\"Sensor ID: {sid} (Temperature: {values['Temperature']}°C , Humidity: {values['Humidity']}%)\")\n",
    "\n",
    "\n",
    "sensor_filter(15,sensor_dict)\n",
    "        \n",
    "\n",
    "    \n",
    "    "
   ]
  },
  {
   "cell_type": "markdown",
   "id": "dcc160f0-2b93-43ef-ae07-0cd08ad7f2d1",
   "metadata": {},
   "source": [
    "**Question 3:** Define a variable air_quality that can take one of the following values: 'Good', 'Moderate', 'Unhealthy', or 'Hazardous'.\n",
    "1. Implement a function that:\n",
    "    * Recommends an activity based on air quality.\n",
    "    * Handles unexpected inputs and prompts the user for correction.\n",
    "2. Simulate air quality readings over 10 instances:\n",
    "    * Randomly assign one of the four air quality categories to each instance.\n",
    "    * Count how many times each category appears.\n",
    "    * Calculate and print the percentage of occurrences for each category.\n",
    "    * Display the results in a structured format (e.g., table or dictionary)."
   ]
  },
  {
   "cell_type": "code",
   "execution_count": 6,
   "id": "eaf49013-0a39-4d16-8abd-7a7fc752f742",
   "metadata": {},
   "outputs": [
    {
     "name": "stdout",
     "output_type": "stream",
     "text": [
      "Simulated Air Qualities: ['Hazardous', 'Moderate', 'Moderate', 'Unhealthy', 'Moderate', 'Moderate', 'Good', 'Moderate', 'Unhealthy', 'Moderate']\n",
      "Air Quality Count: {'Good': 1, 'Hazardous': 1, 'Moderate': 6, 'Unhealthy': 2}\n",
      "Air Quality by Percentage (%): {'Good': 10.0, 'Hazardous': 10.0, 'Moderate': 60.0, 'Unhealthy': 20.0}\n"
     ]
    }
   ],
   "source": [
    "import random\n",
    "import numpy as np\n",
    "\"\"\"\n",
    "* Function which takes air quality values and recommends an activity\n",
    "\n",
    "\"\"\"\n",
    "\n",
    "def air_quality(quality):\n",
    "\n",
    "    # Capitalizes the input from user to match pre defined air quality categories\n",
    "    quality = quality.capitalize()\n",
    "\n",
    "    # Define air qualities as dictionary keys with values being activities which can be performed\n",
    "    activity = {\n",
    "                \"Good\": [\n",
    "                    \"Walking, running, or cycling outdoors\",\n",
    "                    \"Playing sports or hiking\",\n",
    "                    \"Gardening or having a picnic\",\n",
    "                    \"General outdoor recreation\",\n",
    "                ],\n",
    "                \"Moderate\": [\n",
    "                    \"Light to moderate exercise outdoors\",\n",
    "                    \"Walking or light cycling\",\n",
    "                    \"Gardening with reduced exertion\",\n",
    "                    \"Indoor exercise (gym, home workouts)\",\n",
    "                    \"Indoor games and hobbies\",\n",
    "                    \"Socializing indoors\",\n",
    "                ],\n",
    "                \"Unhealthy\": [\n",
    "                    \"Staying indoors with windows closed\",\n",
    "                    \"Light indoor exercise\",\n",
    "                    \"Reading, watching movies, or playing games\",\n",
    "                    \"Indoor hobbies and crafts\",\n",
    "                    \"Short, light walks if absolutely necessary\",\n",
    "                ],\n",
    "                \"Hazardous\": [\n",
    "                    \"Staying indoors with windows and doors sealed\",\n",
    "                    \"Resting and avoiding exertion\",\n",
    "                    \"Indoor activities that do not involve physical strain\",\n",
    "                    \"Following directions from local officials\",\n",
    "                ],\n",
    "            }\n",
    "\n",
    "    # Recommend an activity by using random.choice to pick a random activity from pre-defined dictionary where keys are different air qualities and values are activities\n",
    "    if quality in activity:\n",
    "        return random.choice(activity[quality])\n",
    "    # Handles unexpected inputs and prompts the user for correction.\n",
    "    else:\n",
    "        return \"Invalid air quality input.\"\n",
    "\n",
    "# List of air quality categoried\n",
    "categories = ['Good', 'Moderate', 'Unhealthy','Hazardous']\n",
    "\n",
    "# Create a list of air quality to simulate over ten instances \n",
    "sim_categories = [random.choice(categories) for i in range(10)]\n",
    "\n",
    "# Convert list into numpy array to use numpy functions\n",
    "sim_array = np.array(sim_categories)\n",
    "\n",
    "# Count different unique air quality categories and its instances in the array\n",
    "unique_values, counts = np.unique(sim_array, return_counts = True)\n",
    "\n",
    "# Zip unqiue air qualities and respective air instances together in a dictionary\n",
    "quality_count = dict(zip(unique_values, counts))\n",
    "\n",
    "# Calcualte percentage of each air quality occured out of 10 instances \n",
    "percentage_quality = {val: round(cnt/10*100,2) for val, cnt in quality_count.items()}\n",
    "\n",
    "# Print simualted list, air quality count and air quality percentage \n",
    "print(f\"Simulated Air Qualities: {sim_categories}\")\n",
    "print(f\"Air Quality Count: {quality_count}\")\n",
    "print(f\"Air Quality by Percentage (%): {percentage_quality}\")\n",
    "\n",
    "    "
   ]
  },
  {
   "cell_type": "markdown",
   "id": "31ea3175-4c18-45ab-8f58-64d74298fbd2",
   "metadata": {},
   "source": [
    "**Question 4** Write a while loop that continuously prompts the user to enter a number:\n",
    "1. Break the loop when a negative number is entered.\n",
    "2. Classify even and odd numbers, storing them in separate lists.\n",
    "3. Log both lists to a text file (loop_log.txt) upon loop termination.\n",
    "4. Ensure error handling for non-numeric inputs.\n",
    "5. Validate input to prevent duplicate entries in storage."
   ]
  },
  {
   "cell_type": "code",
   "execution_count": 8,
   "id": "55871f7e-a997-408a-a70f-2ada3f14b0d3",
   "metadata": {},
   "outputs": [
    {
     "name": "stdout",
     "output_type": "stream",
     "text": [
      "\n",
      "Enter numbers one by one. Enter a negative number to exit.\n"
     ]
    },
    {
     "name": "stdin",
     "output_type": "stream",
     "text": [
      "Enter a number:  2\n",
      "Enter a number:  4\n",
      "Enter a number:  6\n",
      "Enter a number:  8\n",
      "Enter a number:  0\n",
      "Enter a number:  9\n",
      "Enter a number:  7\n",
      "Enter a number:  5\n",
      "Enter a number:  3\n",
      "Enter a number:  1\n",
      "Enter a number:  -1\n"
     ]
    },
    {
     "name": "stdout",
     "output_type": "stream",
     "text": [
      "Negative number detected, Exit!\n",
      "Even and odd numbers logged to 'loop_log.txt'.\n"
     ]
    }
   ],
   "source": [
    "# Initiate three list for even, odd and inputs \n",
    "even = []\n",
    "odd = []\n",
    "inputs = []\n",
    "print(\"\\nEnter numbers one by one. Enter a negative number to exit.\")\n",
    "\n",
    "# Loop to take inputs until a negative number is entered \n",
    "while True:\n",
    "    # Save input in a variable\n",
    "    usr_input = input(\"Enter a number: \")\n",
    "\n",
    "    # Ensure error handling for non-numeric inputs\n",
    "    try:\n",
    "        num = float(usr_input)\n",
    "    except ValueError:\n",
    "        print(\"Invalid input. PLease enter a numeric value.\")\n",
    "        continue\n",
    "\n",
    "    # Validate input to prevent duplicate entries in storage\n",
    "    if num in inputs:\n",
    "        print(\"Duplicate entry detected. Please enter a different number.\")\n",
    "        continue\n",
    "\n",
    "    # Break the loop if a negative number is entered\n",
    "    if num < 0:\n",
    "        print(\"Negative number detected, Exit!\")\n",
    "        break\n",
    "\n",
    "    # Check for even numbers and stores number in even and inputs list \n",
    "    if num%2 ==0:\n",
    "        even.append(num)\n",
    "        inputs.append(num)\n",
    "\n",
    "    # Check for odd numbers and stores number in odd and input list \n",
    "    else:\n",
    "        odd.append(num)\n",
    "        inputs.append(num)\n",
    "        \n",
    "# Log the results to a text file\n",
    "with open(\"loop_log.txt\", \"w\") as f:\n",
    "    f.write(\"Even Numbers: \" + str(even) + \"\\n\")\n",
    "    f.write(\"Odd Numbers: \" + str(odd) + \"\\n\")\n",
    "    \n",
    "print(\"Even and odd numbers logged to 'loop_log.txt'.\")\n",
    "\n",
    "\n",
    "    "
   ]
  },
  {
   "cell_type": "markdown",
   "id": "b9fed897-623b-484a-bc26-2bc6e06f92b4",
   "metadata": {},
   "source": [
    "**Question 5**  Write a Python program that:\n",
    "1. Accepts a scientific term as input.\n",
    "2. Prints all characters at even positions in one line and odd positions in another.\n",
    "3. Do this without using list slicing ([::])."
   ]
  },
  {
   "cell_type": "code",
   "execution_count": 10,
   "id": "4e6fb203-dee5-490a-af88-b26bd3f1ad41",
   "metadata": {},
   "outputs": [
    {
     "name": "stdin",
     "output_type": "stream",
     "text": [
      "\n",
      "Enter a scientific term:  x^2+x+5\n"
     ]
    },
    {
     "name": "stdout",
     "output_type": "stream",
     "text": [
      "Even position characters:  x2x5\n",
      "Odd position characters:  ^++\n"
     ]
    }
   ],
   "source": [
    "# Save scientific term into a variable \n",
    "sci_term = input(\"\\nEnter a scientific term: \")\n",
    "\n",
    "# Initiates strings for even and odd characters\n",
    "even_char = \"\"\n",
    "odd_char = \"\"\n",
    "\n",
    "# Iterate through the scientific term provided by the user\n",
    "for i in range(len(sci_term)):\n",
    "    # Concats character to even_char if it is on a even index\n",
    "    if i % 2 == 0:\n",
    "        even_char+= sci_term[i]\n",
    "    # Concats character to odd_char if it is on a odd index\n",
    "    else:\n",
    "        odd_char += sci_term[i]\n",
    "\n",
    "# Print even_char and odd_char strings\n",
    "print(\"Even position characters: \",even_char)\n",
    "print(\"Odd position characters: \",odd_char)\n"
   ]
  },
  {
   "cell_type": "markdown",
   "id": "19097471-cff8-4120-9256-c30fe52235b6",
   "metadata": {},
   "source": [
    "**Question 6**\n",
    "1. Read a dataset 'WeatherData.csv' using pandas (download the dataset from the Resources).\n",
    "2. Display the number of weather stations (rows) and recorded parameters (columns).\n",
    "3. Compute the mean wind speed and subtract it from all wind speed values.\n",
    "4. Print both the original and modified"
   ]
  },
  {
   "cell_type": "code",
   "execution_count": 2,
   "id": "af56d12a-82a3-43b6-bd25-a5aac4f0ec0c",
   "metadata": {},
   "outputs": [
    {
     "name": "stdout",
     "output_type": "stream",
     "text": [
      "\n",
      "Number of weather stations: 20\n",
      "Number of recorded entries (rows): 1000\n",
      "Number of recorded parameters (columns): 6\n",
      "     Wind_Speed_kmh  Mean_Wind_Speed\n",
      "0             43.79         20.24154\n",
      "1             17.41         -6.13846\n",
      "2              2.12        -21.42846\n",
      "3             12.39        -11.15846\n",
      "4             27.33          3.78154\n",
      "..              ...              ...\n",
      "995           30.95          7.40154\n",
      "996           22.47         -1.07846\n",
      "997           44.60         21.05154\n",
      "998           38.02         14.47154\n",
      "999           24.52          0.97154\n",
      "\n",
      "[1000 rows x 2 columns]\n"
     ]
    }
   ],
   "source": [
    "import pandas as pd\n",
    "\n",
    "# Import the dataset using pandas and ensure that the file is in the same directory \n",
    "try:\n",
    "    df = pd.read_csv(\"WeatherData.csv\")\n",
    "except FileNotFoundError:\n",
    "    print(\"File not found in the same directory\")\n",
    "    df = None\n",
    "\n",
    "if df is not None:\n",
    "    # Drop last column which only has NULLs\n",
    "    df = pd.DataFrame(df.iloc[:,0:-1])  #removing column with all NULL values\n",
    "\n",
    "    # Print number of unique stations in the dataset\n",
    "    print(f\"\\nNumber of weather stations: {len(df[\"Station_ID\"].unique())}\")\n",
    "\n",
    "    # Print number of records for diffenent stations\n",
    "    print(f\"Number of recorded entries (rows): {df.shape[0]}\")\n",
    "\n",
    "    # Print number of recorded parameteres\n",
    "    print(f\"Number of recorded parameters (columns): {df.shape[1]}\")\n",
    "\n",
    "    # Calculate mean speed \n",
    "    mean_speed = df[\"Wind_Speed_kmh\"].mean()\n",
    "\n",
    "    # Create new parameter with mean speed subtracted from the original speed\n",
    "    df[\"Mean_Wind_Speed\"] = df[\"Wind_Speed_kmh\"]-mean_speed\n",
    "    \n",
    "    #print(f\"{df[\"Wind_Speed_kmh\"].head()}, \\n{df[\"Mean_Wind_Speed\"].head()}\")\n",
    "    print(df[[\"Wind_Speed_kmh\",\"Mean_Wind_Speed\"]])\n",
    "    "
   ]
  },
  {
   "cell_type": "markdown",
   "id": "28b6db65-f24e-4611-a81c-20f9ea771c3b",
   "metadata": {},
   "source": [
    "**Question 7** Read 'WeatherData.csv' and identify missing values.\n",
    "1. Choose two different imputation techniques to handle missing values.\n",
    "2. Justify why you selected each technique for the respective feature.\n",
    "3. Compare the distribution of the imputed column before and after imputation.\n",
    "4. Save the cleaned dataset (WeatherData_Cleaned.csv)."
   ]
  },
  {
   "cell_type": "code",
   "execution_count": 5,
   "id": "883640f8-2223-40b0-af16-53d6129e1248",
   "metadata": {},
   "outputs": [
    {
     "name": "stdout",
     "output_type": "stream",
     "text": [
      "\n",
      "Missing values before imputation:\n",
      "Station_ID            0\n",
      "Temperature_C        50\n",
      "Humidity_%           50\n",
      "Wind_Speed_kmh        0\n",
      "Precipitation_mm      0\n",
      "Weather_Condition     0\n",
      "dtype: int64\n"
     ]
    }
   ],
   "source": [
    "import matplotlib.pyplot as plt\n",
    "import pandas as pd\n",
    "\n",
    "# Reload the original dataset for imputation comparison\n",
    "df = pd.read_csv(\"WeatherData.csv\")\n",
    "\n",
    "# Drop last column which only has NULLs\n",
    "df = pd.DataFrame(df.iloc[:,0:-1]) \n",
    "\n",
    "# Check number of NULLs in different columns\n",
    "print(\"\\nMissing values before imputation:\")\n",
    "print(df.isnull().sum())"
   ]
  },
  {
   "cell_type": "code",
   "execution_count": 7,
   "id": "d36810a4-51fe-4826-afee-8cfe9f767c76",
   "metadata": {},
   "outputs": [
    {
     "data": {
      "image/png": "[encoded data removed]",
      "text/plain": [
       "<Figure size 1000x400 with 2 Axes>"
      ]
     },
     "metadata": {},
     "output_type": "display_data"
    }
   ],
   "source": [
    "# Comparison of distributions before imputation\n",
    "plt.figure(figsize=(10, 4))\n",
    "\n",
    "# Create histogram for temperature before imputation \n",
    "plt.subplot(1, 2, 1)\n",
    "df[\"Temperature_C\"].hist()\n",
    "plt.title(\"Temperature Before Imputation\")\n",
    "\n",
    "# Create histogram for humidity before imputaiton\n",
    "plt.subplot(1, 2, 2)\n",
    "df[\"Humidity_%\"].hist()\n",
    "plt.title(\"Humidity Before Imputation\")\n",
    "\n",
    "plt.tight_layout()\n",
    "plt.show()\n",
    "\n"
   ]
  },
  {
   "cell_type": "code",
   "execution_count": 9,
   "id": "5d3b39c8-aba1-4b90-9efc-cd74cf7ed016",
   "metadata": {},
   "outputs": [
    {
     "name": "stdout",
     "output_type": "stream",
     "text": [
      "\n",
      "Missing values after imputation:\n",
      "Station_ID           0\n",
      "Temperature_C        0\n",
      "Humidity_%           0\n",
      "Wind_Speed_kmh       0\n",
      "Precipitation_mm     0\n",
      "Weather_Condition    0\n",
      "dtype: int64\n"
     ]
    }
   ],
   "source": [
    "# Impute Temperature with mean grouped by Station_ID.\n",
    "# Justification: Temperature is a continuous variable and it tends to follow a rough symmetric distribution therefore mean appraoch.\n",
    "df[\"Temperature_C\"] = df[\"Temperature_C\"].fillna(df.groupby(\"Station_ID\")[\"Temperature_C\"].transform(lambda x: round(x.mean(),2)))\n",
    "    \n",
    "# Impute Humidity with median grouped by Station_ID.\n",
    "# Justification: Humidity is numeric but a bounded percentage variable and is skewed due to environmental factors therefore median.\n",
    "df[\"Humidity_%\"] = df[\"Humidity_%\"].fillna(df.groupby(\"Station_ID\")[\"Humidity_%\"].transform(lambda x: round(x.median(),2)))\n",
    "\n",
    "# Ensure that all nulls have been filled\n",
    "print(\"\\nMissing values after imputation:\")\n",
    "print(df.isnull().sum())"
   ]
  },
  {
   "cell_type": "code",
   "execution_count": 11,
   "id": "d360d53f-3f26-4205-8886-ff962d9f0de4",
   "metadata": {},
   "outputs": [
    {
     "data": {
      "image/png": "[encoded data removed]",
      "text/plain": [
       "<Figure size 1000x400 with 2 Axes>"
      ]
     },
     "metadata": {},
     "output_type": "display_data"
    }
   ],
   "source": [
    "# Comparison of distributions after imputation\n",
    "plt.figure(figsize=(10,4))\n",
    "\n",
    "# Create temperature histogram after imputation\n",
    "plt.subplot(1, 2, 1)\n",
    "df[\"Temperature_C\"].hist()\n",
    "plt.title(\"Temperature After Imputation\")\n",
    "\n",
    "# Create humidity histogram after imputation\n",
    "plt.subplot(1, 2, 2)\n",
    "df[\"Humidity_%\"].hist()\n",
    "plt.title(\"Humidity After Imputation\")\n",
    "\n",
    "plt.tight_layout()\n",
    "plt.show()"
   ]
  },
  {
   "cell_type": "code",
   "execution_count": 55,
   "id": "3fec6870-bc8f-461a-9b0f-ae29ee5d5ead",
   "metadata": {},
   "outputs": [],
   "source": [
    "# Save the cleaned dataset\n",
    "df.to_csv(\"WeatherData_Cleaned.csv\", index=False)"
   ]
  },
  {
   "cell_type": "markdown",
   "id": "da19864d-187f-4806-aceb-c0f8b872b0cf",
   "metadata": {},
   "source": [
    "**Question 8** Encode the 'Weather_Condition' column using appropriate encoding approach and display the encoded value.\n",
    "1. Justify your selection of encoding technique.\n",
    "2. Save the modified dataset as a new CSV file."
   ]
  },
  {
   "cell_type": "code",
   "execution_count": 58,
   "id": "781e197a-f03c-4f99-a37b-3f1ab69f719c",
   "metadata": {},
   "outputs": [
    {
     "data": {
      "text/html": [
       "<div>\n",
       "<style scoped>\n",
       "    .dataframe tbody tr th:only-of-type {\n",
       "        vertical-align: middle;\n",
       "    }\n",
       "\n",
       "    .dataframe tbody tr th {\n",
       "        vertical-align: top;\n",
       "    }\n",
       "\n",
       "    .dataframe thead th {\n",
       "        text-align: right;\n",
       "    }\n",
       "</style>\n",
       "<table border=\"1\" class=\"dataframe\">\n",
       "  <thead>\n",
       "    <tr style=\"text-align: right;\">\n",
       "      <th></th>\n",
       "      <th>Station_ID</th>\n",
       "      <th>Temperature_C</th>\n",
       "      <th>Humidity_%</th>\n",
       "      <th>Wind_Speed_kmh</th>\n",
       "      <th>Precipitation_mm</th>\n",
       "      <th>Weather_Condition</th>\n",
       "      <th>Weather_Cloudy</th>\n",
       "      <th>Weather_Rainy</th>\n",
       "      <th>Weather_Stormy</th>\n",
       "      <th>Weather_Sunny</th>\n",
       "    </tr>\n",
       "  </thead>\n",
       "  <tbody>\n",
       "    <tr>\n",
       "      <th>0</th>\n",
       "      <td>STN_1</td>\n",
       "      <td>21.60</td>\n",
       "      <td>80.01</td>\n",
       "      <td>43.79</td>\n",
       "      <td>25.21</td>\n",
       "      <td>Stormy</td>\n",
       "      <td>0</td>\n",
       "      <td>0</td>\n",
       "      <td>1</td>\n",
       "      <td>0</td>\n",
       "    </tr>\n",
       "    <tr>\n",
       "      <th>1</th>\n",
       "      <td>STN_2</td>\n",
       "      <td>17.20</td>\n",
       "      <td>70.50</td>\n",
       "      <td>17.41</td>\n",
       "      <td>8.76</td>\n",
       "      <td>Cloudy</td>\n",
       "      <td>1</td>\n",
       "      <td>0</td>\n",
       "      <td>0</td>\n",
       "      <td>0</td>\n",
       "    </tr>\n",
       "    <tr>\n",
       "      <th>2</th>\n",
       "      <td>STN_3</td>\n",
       "      <td>26.96</td>\n",
       "      <td>53.35</td>\n",
       "      <td>2.12</td>\n",
       "      <td>1.11</td>\n",
       "      <td>Sunny</td>\n",
       "      <td>0</td>\n",
       "      <td>0</td>\n",
       "      <td>0</td>\n",
       "      <td>1</td>\n",
       "    </tr>\n",
       "    <tr>\n",
       "      <th>3</th>\n",
       "      <td>STN_4</td>\n",
       "      <td>22.14</td>\n",
       "      <td>86.37</td>\n",
       "      <td>12.39</td>\n",
       "      <td>10.25</td>\n",
       "      <td>Rainy</td>\n",
       "      <td>0</td>\n",
       "      <td>1</td>\n",
       "      <td>0</td>\n",
       "      <td>0</td>\n",
       "    </tr>\n",
       "    <tr>\n",
       "      <th>4</th>\n",
       "      <td>STN_5</td>\n",
       "      <td>12.52</td>\n",
       "      <td>86.81</td>\n",
       "      <td>27.33</td>\n",
       "      <td>23.13</td>\n",
       "      <td>Stormy</td>\n",
       "      <td>0</td>\n",
       "      <td>0</td>\n",
       "      <td>1</td>\n",
       "      <td>0</td>\n",
       "    </tr>\n",
       "  </tbody>\n",
       "</table>\n",
       "</div>"
      ],
      "text/plain": [
       "  Station_ID  Temperature_C  Humidity_%  Wind_Speed_kmh  Precipitation_mm  \\\n",
       "0      STN_1          21.60       80.01           43.79             25.21   \n",
       "1      STN_2          17.20       70.50           17.41              8.76   \n",
       "2      STN_3          26.96       53.35            2.12              1.11   \n",
       "3      STN_4          22.14       86.37           12.39             10.25   \n",
       "4      STN_5          12.52       86.81           27.33             23.13   \n",
       "\n",
       "  Weather_Condition  Weather_Cloudy  Weather_Rainy  Weather_Stormy  \\\n",
       "0            Stormy               0              0               1   \n",
       "1            Cloudy               1              0               0   \n",
       "2             Sunny               0              0               0   \n",
       "3             Rainy               0              1               0   \n",
       "4            Stormy               0              0               1   \n",
       "\n",
       "   Weather_Sunny  \n",
       "0              0  \n",
       "1              0  \n",
       "2              1  \n",
       "3              0  \n",
       "4              0  "
      ]
     },
     "execution_count": 58,
     "metadata": {},
     "output_type": "execute_result"
    }
   ],
   "source": [
    "import pandas as pd\n",
    "\n",
    "# Create copy of cleaned dataframe\n",
    "df_encode = df.copy()\n",
    "\n",
    "# Create copy of column 'Weather Condition' to have original column in the output after encoding\n",
    "df_encode['Weather_Condition_Copy'] = df_encode['Weather_Condition']\n",
    "\n",
    "# Justification - One-hot Encoding: 'Weather_Condition' is a categorical feature with no inherent order.\n",
    "#   One-hot encoding creates a binary column for each unique value, which prevents\n",
    "#   the model from assuming any ordinal relationship between the conditions.\n",
    "df_encode = pd.get_dummies(df_encode, columns = ['Weather_Condition_Copy'], prefix='Weather', dtype = int)\n",
    "df_encode.head()\n"
   ]
  },
  {
   "cell_type": "code",
   "execution_count": 60,
   "id": "6ecf78bc-a827-4922-bcef-e5315ab6215f",
   "metadata": {},
   "outputs": [],
   "source": [
    "# Save to CSV file\n",
    "df_encode.to_csv(\"Weather_Data_Encoded.csv\", index=False)"
   ]
  },
  {
   "cell_type": "markdown",
   "id": "d5172fa4-eb5e-4881-86dd-631bb2a9ccfe",
   "metadata": {},
   "source": [
    "**Question 9** Apply Min-Max Scaling to all numerical columns, excluding Station_ID. Generate two visualizations:\n",
    "1. Histogram of temperatures before and after scaling.\n",
    "2. Boxplot of wind speed before and after scaling.\n",
    "3. Analyze and explain the effect of Min-Max Scaling on the dataset’s distribution."
   ]
  },
  {
   "cell_type": "code",
   "execution_count": 13,
   "id": "8951f5ba-4dd5-474d-a63d-7e303dd01cc7",
   "metadata": {},
   "outputs": [],
   "source": [
    "import pandas as pd\n",
    "import matplotlib.pyplot as plt\n",
    "from sklearn.preprocessing import MinMaxScaler\n",
    "\n",
    "# Create copy of cleaned dataframe\n",
    "df_scale_orgl = df.copy()\n",
    "\n",
    "# Select columns with numerical values and excluding 'Station_ID' if included\n",
    "num_cols = df_scale_orgl.select_dtypes(include=['number']).columns.tolist()\n",
    "\n",
    "# Ensure Station_ID columns is excluded from numerical columns list\n",
    "if 'Station_ID' in num_cols:\n",
    "    num_cols.remove('Station_ID')\n",
    "\n",
    "# Apply MaxMinScaler\n",
    "scaler = MinMaxScaler()\n",
    "scaled = scaler.fit_transform(df_scale_orgl[num_cols])\n",
    "\n",
    "\n",
    "# Create copy for scaled values\n",
    "df_scale = df_scale_orgl.copy()\n",
    "df_scale[num_cols] = scaled"
   ]
  },
  {
   "cell_type": "code",
   "execution_count": 17,
   "id": "790e3186-d290-4839-b38b-3707090eb6ab",
   "metadata": {},
   "outputs": [
    {
     "data": {
      "text/html": [
       "<div>\n",
       "<style scoped>\n",
       "    .dataframe tbody tr th:only-of-type {\n",
       "        vertical-align: middle;\n",
       "    }\n",
       "\n",
       "    .dataframe tbody tr th {\n",
       "        vertical-align: top;\n",
       "    }\n",
       "\n",
       "    .dataframe thead th {\n",
       "        text-align: right;\n",
       "    }\n",
       "</style>\n",
       "<table border=\"1\" class=\"dataframe\">\n",
       "  <thead>\n",
       "    <tr style=\"text-align: right;\">\n",
       "      <th></th>\n",
       "      <th>Station_ID</th>\n",
       "      <th>Temperature_C</th>\n",
       "      <th>Humidity_%</th>\n",
       "      <th>Wind_Speed_kmh</th>\n",
       "      <th>Precipitation_mm</th>\n",
       "      <th>Weather_Condition</th>\n",
       "    </tr>\n",
       "  </thead>\n",
       "  <tbody>\n",
       "    <tr>\n",
       "      <th>0</th>\n",
       "      <td>STN_1</td>\n",
       "      <td>0.463512</td>\n",
       "      <td>0.800641</td>\n",
       "      <td>0.876690</td>\n",
       "      <td>0.840560</td>\n",
       "      <td>Stormy</td>\n",
       "    </tr>\n",
       "    <tr>\n",
       "      <th>1</th>\n",
       "      <td>STN_2</td>\n",
       "      <td>0.287089</td>\n",
       "      <td>0.673739</td>\n",
       "      <td>0.344299</td>\n",
       "      <td>0.291861</td>\n",
       "      <td>Cloudy</td>\n",
       "    </tr>\n",
       "    <tr>\n",
       "      <th>2</th>\n",
       "      <td>STN_3</td>\n",
       "      <td>0.678428</td>\n",
       "      <td>0.444889</td>\n",
       "      <td>0.035721</td>\n",
       "      <td>0.036691</td>\n",
       "      <td>Sunny</td>\n",
       "    </tr>\n",
       "    <tr>\n",
       "      <th>3</th>\n",
       "      <td>STN_4</td>\n",
       "      <td>0.485164</td>\n",
       "      <td>0.885508</td>\n",
       "      <td>0.242987</td>\n",
       "      <td>0.341561</td>\n",
       "      <td>Rainy</td>\n",
       "    </tr>\n",
       "    <tr>\n",
       "      <th>4</th>\n",
       "      <td>STN_5</td>\n",
       "      <td>0.099439</td>\n",
       "      <td>0.891380</td>\n",
       "      <td>0.544501</td>\n",
       "      <td>0.771181</td>\n",
       "      <td>Stormy</td>\n",
       "    </tr>\n",
       "  </tbody>\n",
       "</table>\n",
       "</div>"
      ],
      "text/plain": [
       "  Station_ID  Temperature_C  Humidity_%  Wind_Speed_kmh  Precipitation_mm  \\\n",
       "0      STN_1       0.463512    0.800641        0.876690          0.840560   \n",
       "1      STN_2       0.287089    0.673739        0.344299          0.291861   \n",
       "2      STN_3       0.678428    0.444889        0.035721          0.036691   \n",
       "3      STN_4       0.485164    0.885508        0.242987          0.341561   \n",
       "4      STN_5       0.099439    0.891380        0.544501          0.771181   \n",
       "\n",
       "  Weather_Condition  \n",
       "0            Stormy  \n",
       "1            Cloudy  \n",
       "2             Sunny  \n",
       "3             Rainy  \n",
       "4            Stormy  "
      ]
     },
     "execution_count": 17,
     "metadata": {},
     "output_type": "execute_result"
    }
   ],
   "source": [
    "df_scale.head()"
   ]
  },
  {
   "cell_type": "code",
   "execution_count": 65,
   "id": "95cbb37f-314e-4ba2-9ce0-be55d77cc82a",
   "metadata": {},
   "outputs": [
    {
     "data": {
      "image/png": "[encoded data removed]",
      "text/plain": [
       "<Figure size 1000x400 with 2 Axes>"
      ]
     },
     "metadata": {},
     "output_type": "display_data"
    }
   ],
   "source": [
    "# Visualising Temperature Before and After Scaling\n",
    "plt.figure(figsize=(10,4))\n",
    "plt.subplot(1,2,1)\n",
    "\n",
    "# Create temperature histogram before scaling\n",
    "df_scale_orgl['Temperature_C'].hist()\n",
    "plt.title(\"Temperature Before Scaling\")\n",
    "plt.subplot(1,2,2)\n",
    "\n",
    "# Create temperature histogram after scaling\n",
    "df_scale['Temperature_C'].hist()\n",
    "plt.title(\"Temperature After Scaling\")\n",
    "plt.show()"
   ]
  },
  {
   "cell_type": "code",
   "execution_count": 67,
   "id": "0e91a0b7-7fe1-4b5f-89d1-4d9cca66640f",
   "metadata": {},
   "outputs": [
    {
     "data": {
      "image/png": "[encoded data removed]",
      "text/plain": [
       "<Figure size 1000x400 with 2 Axes>"
      ]
     },
     "metadata": {},
     "output_type": "display_data"
    }
   ],
   "source": [
    "# Visualising Wind Speed Before and After Scaling\n",
    "plt.figure(figsize=(10,4))\n",
    "plt.subplot(1,2,1)\n",
    "\n",
    "# Create Wind Speed box plot before scaling\n",
    "plt.boxplot(df_scale_orgl['Wind_Speed_kmh'])\n",
    "plt.title(\"Wind Speed Before Scaling\")\n",
    "plt.subplot(1,2,2)\n",
    "\n",
    "# Create Wind speed box plot after scaling\n",
    "plt.boxplot(df_scale['Wind_Speed_kmh'])\n",
    "plt.title(\"Wind Speed After Scaling\")\n",
    "plt.show()"
   ]
  },
  {
   "cell_type": "markdown",
   "id": "61331d66-d739-4e50-8d30-cf0d71804d77",
   "metadata": {},
   "source": [
    "**Scaling Before and After Analysis** There has been no effect of maxmin scaling on the distribution of the features. Distribution for Temperature and WindSpeed are same before and after scaling. However, values have been scaled to be between 0 and 1 where value closer to 0 represents lower value and values closer to 1 represent higher values. Min_max Scaling allows all features to contribute to the model equally."
   ]
  }
 ],
 "metadata": {
  "kernelspec": {
   "display_name": "Python 3 (ipykernel)",
   "language": "python",
   "name": "python3"
  },
  "language_info": {
   "codemirror_mode": {
    "name": "ipython",
    "version": 3
   },
   "file_extension": ".py",
   "mimetype": "text/x-python",
   "name": "python",
   "nbconvert_exporter": "python",
   "pygments_lexer": "ipython3",
   "version": "3.12.7"
  }
 },
 "nbformat": 4,
 "nbformat_minor": 5
}
